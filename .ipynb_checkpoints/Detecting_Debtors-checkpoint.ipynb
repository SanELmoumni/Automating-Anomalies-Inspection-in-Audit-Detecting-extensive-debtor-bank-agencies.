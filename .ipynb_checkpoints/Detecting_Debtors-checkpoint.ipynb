{
 "cells": [
  {
   "cell_type": "code",
   "execution_count": 2,
   "id": "retained-guinea",
   "metadata": {},
   "outputs": [],
   "source": [
    "import random\n",
    "import pandas as pd\n",
    "from datetime import datetime \n",
    "from pandas import ExcelWriter"
   ]
  },
  {
   "cell_type": "code",
   "execution_count": 3,
   "id": "persistent-climate",
   "metadata": {},
   "outputs": [
    {
     "name": "stdout",
     "output_type": "stream",
     "text": [
      "      Debtor        Date       Solde\n",
      "0                                   \n",
      "0       7027  2020-04-02 -1618683.72\n",
      "1       7034  2020-04-02  -324202.24\n",
      "2       7048  2020-04-02  -768574.76\n",
      "3       7055  2020-04-02  -774744.80\n",
      "4       7062  2020-04-02 -1044889.86\n",
      "...      ...         ...         ...\n",
      "6359  577576  2020-04-08  -284036.97\n",
      "6360  577583  2020-04-08  -776878.53\n",
      "6361  577590  2020-04-08  -171608.46\n",
      "6362  577597  2020-04-08  -804559.82\n",
      "6363  578227  2020-04-08  -535618.12\n",
      "\n",
      "[6364 rows x 3 columns]\n",
      "Debtor      int64\n",
      "Date       object\n",
      "Solde     float64\n",
      "dtype: object\n",
      "Debtor             int64\n",
      "Date      datetime64[ns]\n",
      "Solde            float64\n",
      "dtype: object\n"
     ]
    }
   ],
   "source": [
    "df = pd.read_csv(\"Archive_Soldes_generated.csv\",header=None,index_col=0)\n",
    "df.columns=[\"Debtor\",\"Date\",\"Solde\"]\n",
    "print(df)\n",
    "print(df.dtypes)\n",
    "df['Date'] =  pd.to_datetime(df['Date'], format='%Y-%m-%d')\n",
    "print(df.dtypes)\n",
    "df.sort_values([\"Debtor\"],ascending=True, inplace=True) \n",
    "all_id = pd.unique(df[\"Debtor\"].sort_values())"
   ]
  },
  {
   "cell_type": "markdown",
   "id": "insured-absolute",
   "metadata": {},
   "source": [
    "# Checking which day was the highest debits recorded"
   ]
  },
  {
   "cell_type": "code",
   "execution_count": 4,
   "id": "noted-narrow",
   "metadata": {},
   "outputs": [
    {
     "data": {
      "text/plain": [
       "Date\n",
       "2020-04-14   -5.216604e+08\n",
       "2020-04-07   -4.745471e+08\n",
       "2020-04-02   -4.590935e+08\n",
       "2020-04-13   -4.567768e+08\n",
       "2020-04-08   -4.523038e+08\n",
       "2020-04-09   -4.488149e+08\n",
       "2020-04-06   -4.474621e+08\n",
       "2020-04-10   -4.004684e+08\n",
       "2020-04-03   -3.981003e+08\n",
       "Name: Solde, dtype: float64"
      ]
     },
     "execution_count": 4,
     "metadata": {},
     "output_type": "execute_result"
    }
   ],
   "source": [
    "df.groupby(['Date'])['Solde'].sum().sort_values(ascending=True)"
   ]
  },
  {
   "cell_type": "markdown",
   "id": "elementary-toolbox",
   "metadata": {},
   "source": [
    "# Checking the highest debtors."
   ]
  },
  {
   "cell_type": "code",
   "execution_count": 5,
   "id": "flush-context",
   "metadata": {},
   "outputs": [
    {
     "data": {
      "text/plain": [
       "Debtor\n",
       "448097   -90215718.40\n",
       "371027   -42992280.95\n",
       "448034   -34475683.81\n",
       "315104   -27745291.75\n",
       "91027    -26539037.03\n",
       "             ...     \n",
       "555302     -649542.90\n",
       "567244     -443350.41\n",
       "556324         -33.00\n",
       "556513           0.00\n",
       "399111      359927.27\n",
       "Name: Solde, Length: 715, dtype: float64"
      ]
     },
     "execution_count": 5,
     "metadata": {},
     "output_type": "execute_result"
    }
   ],
   "source": [
    "df.groupby(['Debtor'])['Solde'].sum().sort_values(ascending=True)"
   ]
  },
  {
   "cell_type": "markdown",
   "id": "hollow-music",
   "metadata": {},
   "source": [
    "# Extraction les soldes qui ont dépassé 5M par jour et calcul de leur récurrence et occurences successives "
   ]
  },
  {
   "cell_type": "code",
   "execution_count": null,
   "id": "metric-greene",
   "metadata": {},
   "outputs": [],
   "source": [
    "all_id"
   ]
  },
  {
   "cell_type": "code",
   "execution_count": 12,
   "id": "phantom-bunch",
   "metadata": {},
   "outputs": [
    {
     "name": "stdout",
     "output_type": "stream",
     "text": [
      "fini\n"
     ]
    }
   ],
   "source": [
    "#Extraire les soldes qui ont dépassé 5M par jour\n",
    "\n",
    "res33 = {}\n",
    "res5 = pd.DataFrame(columns = [\"Debtor\",\"Date\",\"Solde\",\"Succession\"])\n",
    "for i in all_id:\n",
    "    recurr_totale = 0 # Compteur de cmb de période de succesion au total ?\n",
    "    occ_succ = 0 # Compteur cmb de jours successifs ?\n",
    "    dfIndividu = df.query('Debtor == {}'.format(i))\n",
    "    dfIndividu.reset_index(drop=True, inplace=True)\n",
    "    #print(dfIndividu)\n",
    "    ancien = False\n",
    "    for k in range(dfIndividu.shape[0]):\n",
    "        if dfIndividu[\"Solde\"].iloc[k] <= -5000000:\n",
    "            occ_succ += 1\n",
    "            dfResult = pd.DataFrame({\"Debtor\":[dfIndividu[\"Debtor\"].iloc[k]],\"Date\":[dfIndividu[\"Date\"].iloc[k]],\"Solde\":[dfIndividu[\"Solde\"].iloc[k]],\"Succession\":[occ_succ]})\n",
    "            res5 = pd.concat([res5,dfResult])\n",
    "            nouveau = True\n",
    "        else: #recurr_totale +=1 # cmb de fois et cmb de période dans son historique le cdf a succédé 5m\n",
    "            occ_succ = 0 # jtrouve pas de succession, remise du compteur à 0\n",
    "            nouveau = False\n",
    "\n",
    "        if(ancien != nouveau and ancien==False):\n",
    "            recurr_totale += 1\n",
    "        ancien = nouveau\n",
    "    res33[i] = recurr_totale\n",
    "print(\"Done !\")"
   ]
  },
  {
   "cell_type": "code",
   "execution_count": null,
   "id": "moral-terminology",
   "metadata": {},
   "outputs": [],
   "source": [
    "res5.reset_index(drop=True, inplace=True)\n",
    "print(res5)\n",
    "res5id = pd.unique(res5[\"Debtor\"].sort_values())\n",
    "\n",
    "for k in list(res33):\n",
    "    if k not in res5id:\n",
    "        res33.pop(k)\n",
    "print()\n",
    "print()\n",
    "res33 = pd.DataFrame(res33.items(), columns=['Debtor', 'Récurrence'])\n",
    "print(res33)"
   ]
  },
  {
   "cell_type": "markdown",
   "id": "familiar-worst",
   "metadata": {},
   "source": [
    "# Extracting debits exceeding 3M per each 3 successive days, and computing their recurrence and occurrence "
   ]
  },
  {
   "cell_type": "code",
   "execution_count": 15,
   "id": "million-duration",
   "metadata": {},
   "outputs": [
    {
     "ename": "IndentationError",
     "evalue": "unindent does not match any outer indentation level (<tokenize>, line 12)",
     "output_type": "error",
     "traceback": [
      "\u001b[0;36m  File \u001b[0;32m\"<tokenize>\"\u001b[0;36m, line \u001b[0;32m12\u001b[0m\n\u001b[0;31m    for index,rows in dfIndividu.iterrows():\u001b[0m\n\u001b[0m    ^\u001b[0m\n\u001b[0;31mIndentationError\u001b[0m\u001b[0;31m:\u001b[0m unindent does not match any outer indentation level\n"
     ]
    }
   ],
   "source": [
    "listRes = []\n",
    "res3 = {}\n",
    "res3j = pd.DataFrame(columns = [\"Debtor\",\"Date\",\"Solde\",\"Occurrences sucessives\"])\n",
    "for i in all_id:\n",
    "        recurr_totale = 0 # Compteur de cmb de période de succesion au total ?\n",
    "        occ_succ = 0 # Compteur cmb de jours successifs ?\n",
    "        cpt=0\n",
    "        dfIndividu = df.query('CDF == {}'.format(i))\n",
    "        dfIndividu.reset_index(drop=True, inplace=True)\n",
    "        ancien = False\n",
    "    for index,rows in dfIndividu.iterrows():\n",
    "        if rows['Solde'] <= -3000000:\n",
    "            cpt += 1\n",
    "            occ_succ += 1\n",
    "            listTemp = [rows['Debtor'],rows['Date'],rows['Solde'],occ_succ]\n",
    "            listRes.append(listTemp)\n",
    "            nouveau = True\n",
    "        if (rows['Solde'] > -3000000 or index ==dfIndividu.shape[0]-1 ): #recurr_totale +=1 # cmb de fois et cmb de période dans son historique le␣cdf a succédé 5m\n",
    "            if cpt>=3:\n",
    "                res3j = pd.concat([res3j, pd.DataFrame(listRes,columns = [\"Debtor\",\"Date\",\"Solde\",\"Occurrences sucessives\"])])\n",
    "                recurr_totale += 1\n",
    "            cpt=0\n",
    "            occ_succ = 0 # jtrouve pas de succession, remise du compteur à 0\n",
    "            nouveau = False\n",
    "            listRes=[]\n",
    "            \n",
    "    res3[i] = recurr_totale\n",
    "\n",
    "print(\"Done !\")\n"
   ]
  },
  {
   "cell_type": "code",
   "execution_count": null,
   "id": "floppy-gambling",
   "metadata": {},
   "outputs": [],
   "source": [
    "res3j.reset_index(drop=True, inplace=True)\n",
    "print(res3j)\n",
    "res5id = pd.unique(res3j[\"CDF\"].sort_values())\n",
    "for k in list(res3):\n",
    "if k not in res5id:\n",
    "res3.pop(k)\n",
    "print()\n",
    "print()\n",
    "res3 = pd.DataFrame(res3.items(), columns=['CDF', 'Récurrence'])\n",
    "print(res3)"
   ]
  },
  {
   "cell_type": "markdown",
   "id": "external-schedule",
   "metadata": {},
   "source": [
    "# Saving all results in 4 Excel sheets. "
   ]
  },
  {
   "cell_type": "code",
   "execution_count": null,
   "id": "protected-albany",
   "metadata": {},
   "outputs": [],
   "source": []
  },
  {
   "cell_type": "code",
   "execution_count": null,
   "id": "future-preserve",
   "metadata": {},
   "outputs": [],
   "source": []
  },
  {
   "cell_type": "code",
   "execution_count": null,
   "id": "fantastic-christopher",
   "metadata": {},
   "outputs": [],
   "source": []
  },
  {
   "cell_type": "code",
   "execution_count": null,
   "id": "urban-guinea",
   "metadata": {},
   "outputs": [],
   "source": []
  },
  {
   "cell_type": "code",
   "execution_count": null,
   "id": "concerned-contract",
   "metadata": {},
   "outputs": [],
   "source": []
  },
  {
   "cell_type": "code",
   "execution_count": null,
   "id": "starting-upper",
   "metadata": {},
   "outputs": [],
   "source": []
  },
  {
   "cell_type": "code",
   "execution_count": 83,
   "id": "extreme-trauma",
   "metadata": {},
   "outputs": [],
   "source": [
    "df.to_excel(\"Exces3Mpar3J.xlsx\",header=True,index='Debtor')"
   ]
  },
  {
   "cell_type": "code",
   "execution_count": null,
   "id": "incomplete-syntax",
   "metadata": {},
   "outputs": [],
   "source": [
    "with ExcelWriter(\"Exces3Mpar3J.xlsx\") as writer:\n",
    "    start_row = 1\n",
    "    dfAll.to_excel(writer, sheet_name=\"3 Jours\", startrow=start_row, header = True,index='CDF')\n",
    "    dfRes1 = df.query('Solde <-5000000')\n",
    "    dfRes2 = df2.query('Solde <-5000000')\n",
    "    dfRes3 = df3.query('Solde <-5000000')\n",
    "    dfRes = pd.concat([dfRes1,dfRes2,dfRes3])\n",
    "    dfRes.to_excel(writer, sheet_name=\"1 Jours\", startrow=start_row, header = True,index='CDF')\n",
    "    writer.save()"
   ]
  }
 ],
 "metadata": {
  "kernelspec": {
   "display_name": "myenv",
   "language": "python",
   "name": "myenv"
  },
  "language_info": {
   "codemirror_mode": {
    "name": "ipython",
    "version": 3
   },
   "file_extension": ".py",
   "mimetype": "text/x-python",
   "name": "python",
   "nbconvert_exporter": "python",
   "pygments_lexer": "ipython3",
   "version": "3.9.1"
  }
 },
 "nbformat": 4,
 "nbformat_minor": 5
}
