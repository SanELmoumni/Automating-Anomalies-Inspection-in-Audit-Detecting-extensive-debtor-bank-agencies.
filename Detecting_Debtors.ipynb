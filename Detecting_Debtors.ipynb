{
 "cells": [
  {
   "cell_type": "markdown",
   "id": "lesser-southeast",
   "metadata": {},
   "source": [
    "# Importing modules"
   ]
  },
  {
   "cell_type": "code",
   "execution_count": 2,
   "id": "musical-holly",
   "metadata": {},
   "outputs": [],
   "source": [
    "import random\n",
    "import pandas as pd\n",
    "from datetime import datetime \n",
    "from pandas import ExcelWriter"
   ]
  },
  {
   "cell_type": "code",
   "execution_count": 3,
   "id": "going-charlotte",
   "metadata": {},
   "outputs": [
    {
     "name": "stdout",
     "output_type": "stream",
     "text": [
      "      Debtor        Date       Solde\n",
      "0                                   \n",
      "0       7027  2020-04-02 -1618683.72\n",
      "1       7034  2020-04-02  -324202.24\n",
      "2       7048  2020-04-02  -768574.76\n",
      "3       7055  2020-04-02  -774744.80\n",
      "4       7062  2020-04-02 -1044889.86\n",
      "...      ...         ...         ...\n",
      "6359  577576  2020-04-08  -284036.97\n",
      "6360  577583  2020-04-08  -776878.53\n",
      "6361  577590  2020-04-08  -171608.46\n",
      "6362  577597  2020-04-08  -804559.82\n",
      "6363  578227  2020-04-08  -535618.12\n",
      "\n",
      "[6364 rows x 3 columns]\n",
      "Debtor      int64\n",
      "Date       object\n",
      "Solde     float64\n",
      "dtype: object\n",
      "Debtor             int64\n",
      "Date      datetime64[ns]\n",
      "Solde            float64\n",
      "dtype: object\n"
     ]
    }
   ],
   "source": [
    "df = pd.read_csv(\"Archive_Soldes_generated.csv\",header=None,index_col=0)\n",
    "df.columns=[\"Debtor\",\"Date\",\"Solde\"]\n",
    "print(df)\n",
    "print(df.dtypes)\n",
    "df['Date'] =  pd.to_datetime(df['Date'], format='%Y-%m-%d')\n",
    "print(df.dtypes)\n",
    "df.sort_values([\"Debtor\"],ascending=True, inplace=True) \n",
    "all_id = pd.unique(df[\"Debtor\"].sort_values())"
   ]
  },
  {
   "cell_type": "markdown",
   "id": "supreme-forwarding",
   "metadata": {},
   "source": [
    "# Checking which day was the highest debits recorded"
   ]
  },
  {
   "cell_type": "code",
   "execution_count": 4,
   "id": "unique-brick",
   "metadata": {},
   "outputs": [
    {
     "data": {
      "text/plain": [
       "Date\n",
       "2020-04-14   -5.216604e+08\n",
       "2020-04-07   -4.745471e+08\n",
       "2020-04-02   -4.590935e+08\n",
       "2020-04-13   -4.567768e+08\n",
       "2020-04-08   -4.523038e+08\n",
       "2020-04-09   -4.488149e+08\n",
       "2020-04-06   -4.474621e+08\n",
       "2020-04-10   -4.004684e+08\n",
       "2020-04-03   -3.981003e+08\n",
       "Name: Solde, dtype: float64"
      ]
     },
     "execution_count": 4,
     "metadata": {},
     "output_type": "execute_result"
    }
   ],
   "source": [
    "df.groupby(['Date'])['Solde'].sum().sort_values(ascending=True)"
   ]
  },
  {
   "cell_type": "markdown",
   "id": "endangered-creativity",
   "metadata": {},
   "source": [
    "# Checking the highest debtors."
   ]
  },
  {
   "cell_type": "code",
   "execution_count": 5,
   "id": "comparable-radical",
   "metadata": {},
   "outputs": [
    {
     "data": {
      "text/plain": [
       "Debtor\n",
       "448097   -90215718.40\n",
       "371027   -42992280.95\n",
       "448034   -34475683.81\n",
       "315104   -27745291.75\n",
       "91027    -26539037.03\n",
       "             ...     \n",
       "555302     -649542.90\n",
       "567244     -443350.41\n",
       "556324         -33.00\n",
       "556513           0.00\n",
       "399111      359927.27\n",
       "Name: Solde, Length: 715, dtype: float64"
      ]
     },
     "execution_count": 5,
     "metadata": {},
     "output_type": "execute_result"
    }
   ],
   "source": [
    "df.groupby(['Debtor'])['Solde'].sum().sort_values(ascending=True)"
   ]
  },
  {
   "cell_type": "markdown",
   "id": "cutting-minute",
   "metadata": {},
   "source": [
    "# Extraction les soldes qui ont dépassé 5M par jour et calcul de leur récurrence et occurences successives "
   ]
  },
  {
   "cell_type": "code",
   "execution_count": 7,
   "id": "corporate-dialogue",
   "metadata": {},
   "outputs": [
    {
     "name": "stdout",
     "output_type": "stream",
     "text": [
      "Done !\n"
     ]
    }
   ],
   "source": [
    "#Extraire les soldes qui ont dépassé 5M par jour\n",
    "\n",
    "res33 = {}\n",
    "res5 = pd.DataFrame(columns = [\"Debtor\",\"Date\",\"Solde\",\"Succession\"])\n",
    "for i in all_id:\n",
    "    recurr_totale = 0 # Compteur de cmb de période de succesion au total ?\n",
    "    occ_succ = 0 # Compteur cmb de jours successifs ?\n",
    "    dfIndividu = df.query('Debtor == {}'.format(i))\n",
    "    dfIndividu.reset_index(drop=True, inplace=True)\n",
    "    #print(dfIndividu)\n",
    "    ancien = False\n",
    "    for k in range(dfIndividu.shape[0]):\n",
    "        if dfIndividu[\"Solde\"].iloc[k] <= -5000000:\n",
    "            occ_succ += 1\n",
    "            dfResult = pd.DataFrame({\"Debtor\":[dfIndividu[\"Debtor\"].iloc[k]],\"Date\":[dfIndividu[\"Date\"].iloc[k]],\"Solde\":[dfIndividu[\"Solde\"].iloc[k]],\"Succession\":[occ_succ]})\n",
    "            res5 = pd.concat([res5,dfResult])\n",
    "            nouveau = True\n",
    "        else: #recurr_totale +=1 # cmb de fois et cmb de période dans son historique le cdf a succédé 5m\n",
    "            occ_succ = 0 # jtrouve pas de succession, remise du compteur à 0\n",
    "            nouveau = False\n",
    "\n",
    "        if(ancien != nouveau and ancien==False):\n",
    "            recurr_totale += 1\n",
    "        ancien = nouveau\n",
    "    res33[i] = recurr_totale\n",
    "print(\"Done !\")"
   ]
  },
  {
   "cell_type": "markdown",
   "id": "placed-pitch",
   "metadata": {},
   "source": [
    "# Saving the result in res33 dataframe"
   ]
  },
  {
   "cell_type": "code",
   "execution_count": 8,
   "id": "korean-picnic",
   "metadata": {},
   "outputs": [
    {
     "name": "stdout",
     "output_type": "stream",
     "text": [
      "    Debtor       Date        Solde Succession\n",
      "0    91027 2020-04-09  -5305018.61          1\n",
      "1   371027 2020-04-03  -5047890.36          1\n",
      "2   371027 2020-04-07  -5564987.79          1\n",
      "3   371027 2020-04-06  -5228182.83          2\n",
      "4   371027 2020-04-02  -5845301.71          1\n",
      "5   448034 2020-04-08  -6301543.52          1\n",
      "6   448034 2020-04-09  -7245355.90          2\n",
      "7   448034 2020-04-07  -5841286.24          1\n",
      "8   448034 2020-04-14  -8234415.68          2\n",
      "9   448097 2020-04-07 -23904686.64          1\n",
      "10  448097 2020-04-13  -6547683.06          1\n",
      "11  448097 2020-04-08 -10963894.48          1\n",
      "12  448097 2020-04-14 -38308961.01          1\n",
      "13  546251 2020-04-02  -5284145.13          1\n",
      "14  556240 2020-04-13  -6324317.99          1\n",
      "15  556401 2020-04-14  -5176280.83          1\n",
      "\n",
      "\n",
      "   Debtor  Récurrence\n",
      "0   91027           1\n",
      "1  371027           3\n",
      "2  448034           2\n",
      "3  448097           4\n",
      "4  546251           1\n",
      "5  556240           1\n",
      "6  556401           1\n"
     ]
    }
   ],
   "source": [
    "res5.reset_index(drop=True, inplace=True)\n",
    "print(res5)\n",
    "res5id = pd.unique(res5[\"Debtor\"].sort_values())\n",
    "\n",
    "for k in list(res33):\n",
    "    if k not in res5id:\n",
    "        res33.pop(k)\n",
    "print()\n",
    "print()\n",
    "res33 = pd.DataFrame(res33.items(), columns=['Debtor', 'Récurrence'])\n",
    "print(res33)"
   ]
  },
  {
   "cell_type": "markdown",
   "id": "uniform-xerox",
   "metadata": {},
   "source": [
    "# Extracting debits exceeding 3M per each 3 successive days, and computing their recurrence and occurrence "
   ]
  },
  {
   "cell_type": "code",
   "execution_count": 9,
   "id": "foster-bridal",
   "metadata": {},
   "outputs": [
    {
     "name": "stdout",
     "output_type": "stream",
     "text": [
      "Done !\n"
     ]
    }
   ],
   "source": [
    "listRes = []\n",
    "res3 = {}\n",
    "res3j = pd.DataFrame(columns = [\"Debtor\",\"Date\",\"Solde\",\"Occurrences sucessives\"])\n",
    "for i in all_id:\n",
    "        recurr_totale = 0 # Compteur de cmb de période de succesion au total ?\n",
    "        occ_succ = 0 # Compteur cmb de jours successifs ?\n",
    "        cpt=0\n",
    "        dfIndividu = df.query('Debtor == {}'.format(i))\n",
    "        dfIndividu.reset_index(drop=True, inplace=True)\n",
    "        ancien = False\n",
    "        \n",
    "        for index,rows in dfIndividu.iterrows():\n",
    "            if rows['Solde'] <= -3000000:\n",
    "                cpt += 1\n",
    "                occ_succ += 1\n",
    "                listTemp = [rows['Debtor'],rows['Date'],rows['Solde'],occ_succ]\n",
    "                listRes.append(listTemp)\n",
    "                nouveau = True\n",
    "            if (rows['Solde'] > -3000000 or index == dfIndividu.shape[0]-1 ): #recurr_totale +=1 # cmb de fois et cmb de période dans son historique le␣cdf a succédé 5m\n",
    "                if cpt>=3:\n",
    "                    res3j = pd.concat([res3j, pd.DataFrame(listRes,columns = [\"Debtor\",\"Date\",\"Solde\",\"Occurrences sucessives\"])])\n",
    "                    recurr_totale += 1\n",
    "                cpt=0\n",
    "                occ_succ = 0 # jtrouve pas de succession, remise du compteur à 0\n",
    "                nouveau = False\n",
    "                listRes=[]\n",
    "\n",
    "        res3[i] = recurr_totale\n",
    "\n",
    "print(\"Done !\")\n"
   ]
  },
  {
   "cell_type": "markdown",
   "id": "studied-narrative",
   "metadata": {},
   "source": [
    "# Saving the result in res3 dataframe"
   ]
  },
  {
   "cell_type": "code",
   "execution_count": 10,
   "id": "closing-economy",
   "metadata": {},
   "outputs": [
    {
     "name": "stdout",
     "output_type": "stream",
     "text": [
      "    Debtor       Date       Solde Occurrences sucessives\n",
      "0    91027 2020-04-10 -4855530.61                      1\n",
      "1    91027 2020-04-09 -5305018.61                      2\n",
      "2    91027 2020-04-14 -4189490.61                      3\n",
      "3   189027 2020-04-03 -3248894.08                      1\n",
      "4   189027 2020-04-06 -3179255.06                      2\n",
      "5   189027 2020-04-08 -4497585.58                      3\n",
      "6   315104 2020-04-09 -3461041.88                      1\n",
      "7   315104 2020-04-13 -3952804.95                      2\n",
      "8   315104 2020-04-02 -3518036.32                      3\n",
      "9   371027 2020-04-03 -5047890.36                      1\n",
      "10  371027 2020-04-10 -4396841.08                      2\n",
      "11  371027 2020-04-07 -5564987.79                      3\n",
      "12  371027 2020-04-06 -5228182.83                      4\n",
      "13  371027 2020-04-14 -3584819.48                      5\n",
      "14  371027 2020-04-02 -5845301.71                      6\n",
      "15  371027 2020-04-09 -4380777.84                      7\n",
      "16  371027 2020-04-08 -4147616.18                      8\n",
      "17  371027 2020-04-13 -4795863.68                      9\n",
      "\n",
      "\n",
      "   Debtor  Récurrence\n",
      "0   91027           1\n",
      "1  189027           1\n",
      "2  315104           1\n",
      "3  371027           1\n"
     ]
    }
   ],
   "source": [
    "res3j.reset_index(drop=True, inplace=True)\n",
    "print(res3j)\n",
    "res5id = pd.unique(res3j[\"Debtor\"].sort_values())\n",
    "for k in list(res3):\n",
    "    if k not in res5id:\n",
    "        res3.pop(k)\n",
    "print()\n",
    "print()\n",
    "res3 = pd.DataFrame(res3.items(), columns=['Debtor', 'Récurrence'])\n",
    "print(res3)"
   ]
  },
  {
   "cell_type": "markdown",
   "id": "adjusted-fireplace",
   "metadata": {},
   "source": [
    "# Saving all results in 4 Excel sheets. "
   ]
  },
  {
   "cell_type": "code",
   "execution_count": 11,
   "id": "mexican-criticism",
   "metadata": {},
   "outputs": [
    {
     "name": "stderr",
     "output_type": "stream",
     "text": [
      "/home/hassan/anaconda3/envs/myenv/lib/python3.9/site-packages/xlsxwriter/workbook.py:329: UserWarning: Calling close() on already closed file.\n",
      "  warn(\"Calling close() on already closed file.\")\n"
     ]
    }
   ],
   "source": [
    "with ExcelWriter(\"Reporting Caisse.xlsx\") as writer:\n",
    "    start_row = 1\n",
    "    res5.to_excel(writer, sheet_name=\">5M\", startrow=start_row, header = True)\n",
    "    res33.to_excel(writer, sheet_name=\"Récurrences\", startrow=start_row, header = True)\n",
    "    res3j.to_excel(writer, sheet_name=\">3M\", startrow=start_row, header = True)\n",
    "    res3.to_excel(writer, sheet_name=\"Récurrences 3J\", startrow=start_row, header = True)\n",
    "    writer.save()"
   ]
  },
  {
   "cell_type": "code",
   "execution_count": null,
   "id": "million-contribution",
   "metadata": {},
   "outputs": [],
   "source": []
  }
 ],
 "metadata": {
  "kernelspec": {
   "display_name": "myenv",
   "language": "python",
   "name": "myenv"
  },
  "language_info": {
   "codemirror_mode": {
    "name": "ipython",
    "version": 3
   },
   "file_extension": ".py",
   "mimetype": "text/x-python",
   "name": "python",
   "nbconvert_exporter": "python",
   "pygments_lexer": "ipython3",
   "version": "3.9.1"
  }
 },
 "nbformat": 4,
 "nbformat_minor": 5
}
